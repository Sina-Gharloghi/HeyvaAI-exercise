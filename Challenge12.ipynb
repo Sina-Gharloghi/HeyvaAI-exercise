{
  "nbformat": 4,
  "nbformat_minor": 0,
  "metadata": {
    "colab": {
      "provenance": [],
      "authorship_tag": "ABX9TyMDoKirBalllevo7jAiIZC+",
      "include_colab_link": true
    },
    "kernelspec": {
      "name": "python3",
      "display_name": "Python 3"
    },
    "language_info": {
      "name": "python"
    }
  },
  "cells": [
    {
      "cell_type": "markdown",
      "metadata": {
        "id": "view-in-github",
        "colab_type": "text"
      },
      "source": [
        "<a href=\"https://colab.research.google.com/github/Sina-Gharloghi/HeyvaAI-exercise/blob/main/Challenge12.ipynb\" target=\"_parent\"><img src=\"https://colab.research.google.com/assets/colab-badge.svg\" alt=\"Open In Colab\"/></a>"
      ]
    },
    {
      "cell_type": "code",
      "execution_count": 3,
      "metadata": {
        "id": "g7xBwm0UIoIv",
        "colab": {
          "base_uri": "https://localhost:8080/"
        },
        "outputId": "926e9cec-b504-4146-d993-5a8be184f56e"
      },
      "outputs": [
        {
          "output_type": "execute_result",
          "data": {
            "text/plain": [
              "<Permission.Execute|Write|Read: 7>"
            ]
          },
          "metadata": {},
          "execution_count": 3
        }
      ],
      "source": [
        "from enum import auto, Flag\n",
        "\n",
        "class Permission(Flag):\n",
        "    Read = auto()\n",
        "    Write = auto()\n",
        "    Execute = auto()\n",
        "\n",
        "class PyScript:\n",
        "    UR = {\"admin\": Permission.Read | Permission.Write | Permission.Execute,\n",
        "        \"user\": Permission.Read,\n",
        "        \"manager\": Permission.Read | Permission.Write,\n",
        "        \"support\": Permission.Execute,}\n",
        "\n",
        "    def _check_per(self):\n",
        "        permissions = Permission.Read\n",
        "        role = self.ur\n",
        "\n",
        "        if role in self.UR:\n",
        "            permissions = self.UR.get(role)\n",
        "        return Permission(permissions)\n",
        "\n",
        "    def give_per(self, per):\n",
        "        if per not in self.permissions:\n",
        "            raise ValueError(f\"Invalid {per.name}!\")\n",
        "\n",
        "    def read(self, file=\"script.py\"):\n",
        "        self.give_per(Permission.Read)\n",
        "\n",
        "    def write(self, file=\"script.py\", content=\"\"):\n",
        "        self.give_per(Permission.Write)\n",
        "\n",
        "    def execute(self, file=\"script.py\"):\n",
        "        self.give_per(Permission.Execute)\n",
        "\n",
        "    def __repr__(self):\n",
        "        print (f\"(name='{self.name}', user_role='{self.ur}')\")\n",
        "\n",
        "class User(PyScript):\n",
        "    def __init__(self, name, ur):\n",
        "        self.name = name\n",
        "        self.ur = ur\n",
        "        self.permissions = self._check_per()\n",
        "\n",
        "x = User(\"sina\", \"admin\")\n",
        "x.permissions"
      ]
    }
  ]
}